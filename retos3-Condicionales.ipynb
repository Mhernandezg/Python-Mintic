{
  "nbformat": 4,
  "nbformat_minor": 0,
  "metadata": {
    "kernelspec": {
      "display_name": "Python 3",
      "language": "python",
      "name": "python3"
    },
    "language_info": {
      "codemirror_mode": {
        "name": "ipython",
        "version": 3
      },
      "file_extension": ".py",
      "mimetype": "text/x-python",
      "name": "python",
      "nbconvert_exporter": "python",
      "pygments_lexer": "ipython3",
      "version": "3.8.3"
    },
    "colab": {
      "name": "retos3.ipynb",
      "provenance": [],
      "include_colab_link": true
    }
  },
  "cells": [
    {
      "cell_type": "markdown",
      "metadata": {
        "id": "view-in-github",
        "colab_type": "text"
      },
      "source": [
        "<a href=\"https://colab.research.google.com/github/Mhernandezg/Python-Mintic/blob/master/retos3-Condicionales.ipynb\" target=\"_parent\"><img src=\"https://colab.research.google.com/assets/colab-badge.svg\" alt=\"Open In Colab\"/></a>"
      ]
    },
    {
      "cell_type": "markdown",
      "metadata": {
        "id": "pP4C8Wkz4lan",
        "colab_type": "text"
      },
      "source": [
        "## Retos del día\n",
        "\n",
        "Los retos del día están diseñados para permitirte practicar los conceptos aprendidos y empezar a explorar el lenguaje de programación. \n",
        "\n",
        "Recuerda tomar el tiempo en analizar y planear la solución antes de empezar a programar!\n",
        "\n",
        "### Reto del día 1\n",
        "\n",
        "Pedro y Jesús son dos hermanos, hijos únicos de Simón, y quienes tienen acceso a una bóveda en un exclusivo banco. El dueño original de esta bóveda es su padre, y en su testamento ha especificado las siguientes condiciones para que el banco le permita acceder a sus hijos al contenido de dicha bóveda. Las condiciones son las siguientes:\n",
        "\n",
        "    a. Juan debe ser mayor de 35 años, o Pedro debe ser menor de 50 años.\n",
        "    b. La suma de sus edades debe ser un número par.\n",
        "    c. Simón debe tener mínimo 1 nieto.\n",
        "\n",
        "Construye un algoritmo que lea la edad de Juan, la edad de Pedro y el número de nietos y calcule, usando condicionales, si tienen acceso (SI) o no (NO) a la bóveda."
      ]
    },
    {
      "cell_type": "code",
      "metadata": {
        "id": "G5YJ34PM4la7",
        "colab_type": "code",
        "colab": {
          "base_uri": "https://localhost:8080/",
          "height": 35
        },
        "outputId": "a5114ca8-2362-4479-dd18-0baaa7e884c7"
      },
      "source": [
        "def reto1(edadJuan, edadPedro,nietos):\n",
        "   # Escribe tu código aquí. Manten la indentación!!\n",
        "   sumaEdad=edadJuan+edadPedro\n",
        "   if(edadJuan>35 or edadPedro<50) and sumaEdad%2==0 and nietos>0:\n",
        "     acceso='SI'\n",
        "   else:\n",
        "     acceso='NO'\n",
        "   \n",
        "   return acceso # Reemplaza 0 por la variable que tiene el resultado\n",
        "\n",
        "reto1(36, 45, 0)"
      ],
      "execution_count": null,
      "outputs": [
        {
          "output_type": "execute_result",
          "data": {
            "application/vnd.google.colaboratory.intrinsic+json": {
              "type": "string"
            },
            "text/plain": [
              "'NO'"
            ]
          },
          "metadata": {
            "tags": []
          },
          "execution_count": 15
        }
      ]
    },
    {
      "cell_type": "markdown",
      "metadata": {
        "id": "idYo_as14lbj",
        "colab_type": "text"
      },
      "source": [
        "### Reto del día 2\n",
        "\n",
        "El incremento salarial de la compañía Y se determina de acuerdo al desempeño de cada empleado. \n",
        "\n",
        "Cada jefe de área le asigna una calificación entre 1 y 25 a cada empleado por dos factor: culminación de proyectos y trabajo en equipo. El desempeño es calculado sumando el resultado de ambos factores y determinando el porcentaje total.\n",
        "\n",
        "Los empleados que obtengan más del 60% de desempeño y al menos 12 puntos en cada factor obtendrán un incremento de 5%. El resto de empleados obtendran 2.5%.\n",
        "\n",
        "Escribe el código que permita, a partir del valor de los factores ingresados por el gerente e imprima el porcentaje a incrementar (0.025 = 2.5% y 0.05 = 5%)."
      ]
    },
    {
      "cell_type": "code",
      "metadata": {
        "id": "TZFAqBn74lbx",
        "colab_type": "code",
        "colab": {
          "base_uri": "https://localhost:8080/",
          "height": 34
        },
        "outputId": "c31371dd-4451-4cd9-9d85-98f435c54b95"
      },
      "source": [
        "def reto2(factorProyecto, factorEquipo):\n",
        "    # Escribe tu código aquí. Manten la indentación!!\n",
        "    desempeño=(factorProyecto+factorEquipo)*100/50\n",
        "    if(desempeño>60 and factorProyecto>11 and factorEquipo>11):\n",
        "      incremento=0.05\n",
        "    else:\n",
        "      incremento=0.025\n",
        "    return incremento # Reemplaza 0 por la variable que tiene el resultado\n",
        "\n",
        "reto2(14,14) "
      ],
      "execution_count": null,
      "outputs": [
        {
          "output_type": "execute_result",
          "data": {
            "text/plain": [
              "0.025"
            ]
          },
          "metadata": {
            "tags": []
          },
          "execution_count": 20
        }
      ]
    },
    {
      "cell_type": "markdown",
      "metadata": {
        "id": "r2VVJ9Go4lcb",
        "colab_type": "text"
      },
      "source": [
        "### Reto del día 3 \n",
        "\n",
        "Escribe un algoritmo que dado un número del 1 al 10 determine si es par o impar."
      ]
    },
    {
      "cell_type": "code",
      "metadata": {
        "id": "fPiHGQPT4lcf",
        "colab_type": "code",
        "colab": {
          "base_uri": "https://localhost:8080/",
          "height": 35
        },
        "outputId": "9c86b27d-dd21-4cfa-a9fa-139c6adfdddb"
      },
      "source": [
        "def reto3(x):\n",
        "    # Escribe tu código aquí. Manten la identación!!\n",
        "    if(x%2==0):\n",
        "      algoritmo='par'\n",
        "    else:\n",
        "      algoritmo='impar'\n",
        "    return algoritmo # Reemplaza 0 por la variable que tiene el resultado\n",
        "reto3(5) "
      ],
      "execution_count": null,
      "outputs": [
        {
          "output_type": "execute_result",
          "data": {
            "application/vnd.google.colaboratory.intrinsic+json": {
              "type": "string"
            },
            "text/plain": [
              "'impar'"
            ]
          },
          "metadata": {
            "tags": []
          },
          "execution_count": 19
        }
      ]
    }
  ]
}