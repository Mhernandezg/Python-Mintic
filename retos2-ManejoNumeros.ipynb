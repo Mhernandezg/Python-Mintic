{
  "nbformat": 4,
  "nbformat_minor": 0,
  "metadata": {
    "kernelspec": {
      "display_name": "Python 3",
      "language": "python",
      "name": "python3"
    },
    "language_info": {
      "codemirror_mode": {
        "name": "ipython",
        "version": 3
      },
      "file_extension": ".py",
      "mimetype": "text/x-python",
      "name": "python",
      "nbconvert_exporter": "python",
      "pygments_lexer": "ipython3",
      "version": "3.8.3"
    },
    "colab": {
      "name": "retos2.ipynb",
      "provenance": [],
      "collapsed_sections": [],
      "include_colab_link": true
    }
  },
  "cells": [
    {
      "cell_type": "markdown",
      "metadata": {
        "id": "view-in-github",
        "colab_type": "text"
      },
      "source": [
        "<a href=\"https://colab.research.google.com/github/Mhernandezg/Python-Mintic/blob/master/retos2-ManejoNumeros.ipynb\" target=\"_parent\"><img src=\"https://colab.research.google.com/assets/colab-badge.svg\" alt=\"Open In Colab\"/></a>"
      ]
    },
    {
      "cell_type": "markdown",
      "metadata": {
        "id": "qR81bDr6xe2i",
        "colab_type": "text"
      },
      "source": [
        "## Retos del día\n",
        "\n",
        "Los retos del día están diseñados para permitirte practicar los conceptos aprendidos y empezar a explorar el lenguaje de programación. \n",
        "\n",
        "Recuerda tomar el tiempo en analizar y planear la solución antes de empezar a programar!\n",
        "\n",
        "### Reto del día 1\n",
        "\n",
        "Escribe un algoritmo que lea un número de 4 dígitos y lo invierta."
      ]
    },
    {
      "cell_type": "code",
      "metadata": {
        "id": "drLI7toJxe2p",
        "colab_type": "code",
        "colab": {
          "base_uri": "https://localhost:8080/",
          "height": 34
        },
        "outputId": "05be7df8-a3f2-4d3d-8049-8a8bb3f3a9b9"
      },
      "source": [
        "def reto1(numero):\n",
        "    # Escribe tu código aquí. Manten la indentación!!\n",
        "    numero_inverso=''\n",
        "    while(numero>0):\n",
        "      primero=numero%10\n",
        "      numero=numero//10\n",
        "      numero_inverso=numero_inverso+str(primero)\n",
        "      #print(primero,end=\"\") \n",
        "      # Reemplaza 0 por la variable que tiene el resultado\n",
        "    return int(numero_inverso)\n",
        "    \n",
        "reto1(1234) "
      ],
      "execution_count": null,
      "outputs": [
        {
          "output_type": "execute_result",
          "data": {
            "text/plain": [
              "4321"
            ]
          },
          "metadata": {
            "tags": []
          },
          "execution_count": 48
        }
      ]
    },
    {
      "cell_type": "markdown",
      "metadata": {
        "id": "4OgZKHT9xe3k",
        "colab_type": "text"
      },
      "source": [
        "### Reto del día 2\n",
        "\n",
        "En una alcancía se tienen monedas de 50, 100, 200 y 500 pesos. Escriba el algoritmo que permita averiguar cuánto dinero hay en la alcancía. En este caso, pregunta al usuario que ingrese el número de monedas de cada denominación.\n"
      ]
    },
    {
      "cell_type": "code",
      "metadata": {
        "id": "xl-Q9LV-xe3y",
        "colab_type": "code",
        "colab": {
          "base_uri": "https://localhost:8080/",
          "height": 34
        },
        "outputId": "442ecc2f-7888-4d9f-dd45-d6a00fd37872"
      },
      "source": [
        "def reto2(x50,x100,x200,x500):\n",
        "    # Escribe tu código aquí. Manten la indentación!!\n",
        "    moneda50=50\n",
        "    moneda100=100\n",
        "    moneda200=200\n",
        "    moneda500=500\n",
        "    dinero_alcancia=(x50*moneda50 + x100*moneda100 + x200*moneda200 + x500*moneda500)\n",
        "    return dinero_alcancia # Reemplaza 0 por la variable que tiene el resultado\n",
        "\n",
        "reto2(1,2,1,2)"
      ],
      "execution_count": null,
      "outputs": [
        {
          "output_type": "execute_result",
          "data": {
            "text/plain": [
              "1450"
            ]
          },
          "metadata": {
            "tags": []
          },
          "execution_count": 37
        }
      ]
    },
    {
      "cell_type": "markdown",
      "metadata": {
        "id": "8KVoTqzSxe4K",
        "colab_type": "text"
      },
      "source": [
        "### Reto del día 3\n",
        "Escribe el código para obtener la raiz cuadrada de x, asigna el resultado a una variable b y redondea este valor a cero decimales. Imprime b\n"
      ]
    },
    {
      "cell_type": "code",
      "metadata": {
        "id": "tkRFN1Vqxe4O",
        "colab_type": "code",
        "colab": {
          "base_uri": "https://localhost:8080/",
          "height": 34
        },
        "outputId": "d9c32bdd-bdb9-4def-f767-a87cc0f88ba3"
      },
      "source": [
        "def reto3(x):\n",
        "    # Escribe tu código aquí. Manten la indentación!!\n",
        "    b=x**(1/2)\n",
        "    return int(b) # Reemplaza 0 por la variable que tiene el resultado\n",
        "\n",
        "reto3(25)"
      ],
      "execution_count": null,
      "outputs": [
        {
          "output_type": "execute_result",
          "data": {
            "text/plain": [
              "5"
            ]
          },
          "metadata": {
            "tags": []
          },
          "execution_count": 44
        }
      ]
    },
    {
      "cell_type": "markdown",
      "metadata": {
        "id": "OMJNSATpxe4w",
        "colab_type": "text"
      },
      "source": [
        "### Reto del día 4\n",
        "La ejecución del siguiente código puede ser incorrecta si el usuario no ingresa el numero de la forma correcta. Modifica el código para que devuelva la suma de las dos variables\n"
      ]
    },
    {
      "cell_type": "code",
      "metadata": {
        "id": "D5orX00txe43",
        "colab_type": "code",
        "colab": {
          "base_uri": "https://localhost:8080/",
          "height": 34
        },
        "outputId": "814acd29-ee90-4582-960f-b7a423bcbea4"
      },
      "source": [
        "def reto4(x,y):\n",
        "\n",
        "    resultado = int(x)+int(y)\n",
        "    \n",
        "    return resultado\n",
        "\n",
        "reto4(\"4\",\"4\")"
      ],
      "execution_count": null,
      "outputs": [
        {
          "output_type": "stream",
          "text": [
            "8\n"
          ],
          "name": "stdout"
        }
      ]
    }
  ]
}