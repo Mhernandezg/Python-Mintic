{
  "nbformat": 4,
  "nbformat_minor": 0,
  "metadata": {
    "kernelspec": {
      "display_name": "Python 3",
      "language": "python",
      "name": "python3"
    },
    "language_info": {
      "codemirror_mode": {
        "name": "ipython",
        "version": 3
      },
      "file_extension": ".py",
      "mimetype": "text/x-python",
      "name": "python",
      "nbconvert_exporter": "python",
      "pygments_lexer": "ipython3",
      "version": "3.8.3"
    },
    "colab": {
      "name": "retos.ipynb",
      "provenance": [],
      "collapsed_sections": [],
      "include_colab_link": true
    }
  },
  "cells": [
    {
      "cell_type": "markdown",
      "metadata": {
        "id": "view-in-github",
        "colab_type": "text"
      },
      "source": [
        "<a href=\"https://colab.research.google.com/github/Mhernandezg/Python-Mintic/blob/master/retos-Manejo%20Numeros.ipynb\" target=\"_parent\"><img src=\"https://colab.research.google.com/assets/colab-badge.svg\" alt=\"Open In Colab\"/></a>"
      ]
    },
    {
      "cell_type": "markdown",
      "metadata": {
        "id": "4gmAks5e5T0O",
        "colab_type": "text"
      },
      "source": [
        "## Retos del día\n",
        "\n",
        "Los retos del día están diseñados para permitirte practicar los conceptos aprendidos y empezar a explorar el lenguaje de programación. \n",
        "\n",
        "Recuerda tomar el tiempo en analizar y planear la solución antes de empezar a programar!\n",
        "\n",
        "### Reto del día 1\n",
        "\n",
        "Escribe el código que lea las cuatro notas de un estudiante (Cada nota en la escala entre 1 y 5) e imprima el promedio de las mismas."
      ]
    },
    {
      "cell_type": "code",
      "metadata": {
        "id": "LFwewG9c5T1d",
        "colab_type": "code",
        "colab": {
          "base_uri": "https://localhost:8080/",
          "height": 34
        },
        "outputId": "ceefc489-d416-4123-c77a-5c2417951ad0"
      },
      "source": [
        "def reto1(x,y,z,w):\n",
        "    \n",
        "    # Escribe tu código aquí. Manten la identación!!\n",
        "    promedio=(x+y+z+w)/4\n",
        "    \n",
        "    return promedio # Reemplaza 0 por la variable que tiene el resultado\n",
        "\n",
        "reto1(4.5,2.5,3.5,5)"
      ],
      "execution_count": null,
      "outputs": [
        {
          "output_type": "execute_result",
          "data": {
            "text/plain": [
              "3.875"
            ]
          },
          "metadata": {
            "tags": []
          },
          "execution_count": 2
        }
      ]
    },
    {
      "cell_type": "markdown",
      "metadata": {
        "id": "I1MKlrbN5T2P",
        "colab_type": "text"
      },
      "source": [
        "### Reto del día 2\n",
        "\n",
        "Escribe el código para leer un número entero x e imprime el número de dígitos de x. Por ejemplo, 345 tiene 3 dígitos y 4000 tiene 4 dígitos."
      ]
    },
    {
      "cell_type": "code",
      "metadata": {
        "id": "EbWpxZEG5T2T",
        "colab_type": "code",
        "colab": {
          "base_uri": "https://localhost:8080/",
          "height": 34
        },
        "outputId": "68c1bc29-e9f9-4161-f794-aec729e9cfee"
      },
      "source": [
        "def reto2(x):\n",
        "    # Escribe tu código aquí. Manten la identación!!\n",
        "    a=0\n",
        "    while(x>1):\n",
        "      x=x/10\n",
        "      a+=1\n",
        "    return a # Reemplaza 0 por la variable que tiene el resultado\n",
        "\n",
        "reto2(1234)"
      ],
      "execution_count": null,
      "outputs": [
        {
          "output_type": "execute_result",
          "data": {
            "text/plain": [
              "4"
            ]
          },
          "metadata": {
            "tags": []
          },
          "execution_count": 35
        }
      ]
    },
    {
      "cell_type": "markdown",
      "metadata": {
        "id": "gCVUBCka5T2y",
        "colab_type": "text"
      },
      "source": [
        "### Reto del día 3\n",
        "\n",
        "Escribe el código para leer un número entero e imprime el último dígito."
      ]
    },
    {
      "cell_type": "code",
      "metadata": {
        "id": "HvJgV4on5T27",
        "colab_type": "code",
        "colab": {
          "base_uri": "https://localhost:8080/",
          "height": 34
        },
        "outputId": "769b429a-57bc-4283-d40f-b7b06bb688d9"
      },
      "source": [
        "def reto3(x):\n",
        "    # Escribe tu código aquí. Manten la identación!!\n",
        "    if(x%10==x):\n",
        "      return x\n",
        "    else:\n",
        "      return reto3(x%10) #Reemplaza 0 por la variable que tiene el resultado    \n",
        "    \n",
        "\n",
        "reto3(789)"
      ],
      "execution_count": null,
      "outputs": [
        {
          "output_type": "execute_result",
          "data": {
            "text/plain": [
              "9"
            ]
          },
          "metadata": {
            "tags": []
          },
          "execution_count": 37
        }
      ]
    },
    {
      "cell_type": "markdown",
      "metadata": {
        "id": "ejXaJ6LA5T3e",
        "colab_type": "text"
      },
      "source": [
        "### Reto del día 4\n",
        "\n",
        "Escribe el código para leer dos números enteros(x, y) de dos dígitos y determina a cuánto es igual la suma de todos los dígitos. Imprime el resultado.\n"
      ]
    },
    {
      "cell_type": "code",
      "metadata": {
        "id": "20TPJbEd5T3j",
        "colab_type": "code",
        "colab": {
          "base_uri": "https://localhost:8080/",
          "height": 34
        },
        "outputId": "626bf63b-b0ff-49b9-beda-66ef354d3446"
      },
      "source": [
        "def reto4(x,y):\n",
        "    # Escribe tu código aquí. Manten la identación!!\n",
        "    #while(x!=0 and y!=0):\n",
        "    a=x%10\n",
        "    b=y%10\n",
        "    x=x//10\n",
        "    y=y//10\n",
        "    c=a+b+x+y       \n",
        "    return c # Reemplaza 0 por la variable que tiene el resultado\n",
        "\n",
        "reto4(50,76)"
      ],
      "execution_count": null,
      "outputs": [
        {
          "output_type": "execute_result",
          "data": {
            "text/plain": [
              "18"
            ]
          },
          "metadata": {
            "tags": []
          },
          "execution_count": 1
        }
      ]
    }
  ]
}